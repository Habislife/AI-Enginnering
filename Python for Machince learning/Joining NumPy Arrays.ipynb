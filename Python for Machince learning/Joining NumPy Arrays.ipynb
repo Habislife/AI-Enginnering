{
 "cells": [
  {
   "cell_type": "code",
   "execution_count": 1,
   "id": "df6923ab",
   "metadata": {},
   "outputs": [],
   "source": [
    "import numpy as np"
   ]
  },
  {
   "cell_type": "code",
   "execution_count": 2,
   "id": "313c3bb3",
   "metadata": {},
   "outputs": [],
   "source": [
    "n1 = np.array([10,20,30])\n",
    "n2 = np.array([40,50,60])"
   ]
  },
  {
   "cell_type": "code",
   "execution_count": 3,
   "id": "f3806b32",
   "metadata": {},
   "outputs": [
    {
     "data": {
      "text/plain": [
       "array([[10, 20, 30],\n",
       "       [40, 50, 60]])"
      ]
     },
     "execution_count": 3,
     "metadata": {},
     "output_type": "execute_result"
    }
   ],
   "source": [
    "np.vstack((n1,n2))"
   ]
  },
  {
   "cell_type": "code",
   "execution_count": 4,
   "id": "a7a70f79",
   "metadata": {},
   "outputs": [
    {
     "data": {
      "text/plain": [
       "array([10, 20, 30, 40, 50, 60])"
      ]
     },
     "execution_count": 4,
     "metadata": {},
     "output_type": "execute_result"
    }
   ],
   "source": [
    "np.hstack((n1,n2))"
   ]
  },
  {
   "cell_type": "code",
   "execution_count": null,
   "id": "6e8c5ed0",
   "metadata": {},
   "outputs": [],
   "source": [
    "np.column_stack((n))"
   ]
  }
 ],
 "metadata": {
  "kernelspec": {
   "display_name": "Python 3 (ipykernel)",
   "language": "python",
   "name": "python3"
  },
  "language_info": {
   "codemirror_mode": {
    "name": "ipython",
    "version": 3
   },
   "file_extension": ".py",
   "mimetype": "text/x-python",
   "name": "python",
   "nbconvert_exporter": "python",
   "pygments_lexer": "ipython3",
   "version": "3.10.9"
  }
 },
 "nbformat": 4,
 "nbformat_minor": 5
}
